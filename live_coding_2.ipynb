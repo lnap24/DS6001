{
 "cells": [
  {
   "cell_type": "code",
   "execution_count": 1,
   "metadata": {},
   "outputs": [],
   "source": [
    "import numpy as np\n",
    "import pandas as pd\n",
    "import json\n",
    "import requests #allows us to send HTTP requests\n"
   ]
  },
  {
   "cell_type": "markdown",
   "metadata": {},
   "source": [
    "user-agent string: some text that describes the system we are using to access a webpage; generally good etiquette to supply user agent string as a header in a http call."
   ]
  },
  {
   "cell_type": "code",
   "execution_count": 2,
   "metadata": {},
   "outputs": [
    {
     "data": {
      "text/plain": [
       "<Response [200]>"
      ]
     },
     "execution_count": 2,
     "metadata": {},
     "output_type": "execute_result"
    }
   ],
   "source": [
    "url = 'https://httpbin.org/user-agent'\n",
    "r = requests.get(url)\n",
    "r"
   ]
  },
  {
   "cell_type": "markdown",
   "metadata": {},
   "source": [
    "The four key methods in the JSON package:\n",
    "1. loads - convert a string in the Python kernel to dictionaries/lists\n",
    "2. load - load a text file and store it as dictionaries/lists\n",
    "3. dumps - convert a dictionaries/list in the Python kernel to a string\n",
    "4. dump - save a dictionaries/lists in the Python kernel to a text file"
   ]
  },
  {
   "cell_type": "code",
   "execution_count": 9,
   "metadata": {},
   "outputs": [],
   "source": [
    "my_json = json.loads(r.text)\n",
    "useragent = my_json['user-agent']"
   ]
  },
  {
   "cell_type": "code",
   "execution_count": 10,
   "metadata": {},
   "outputs": [],
   "source": [
    "#headers are data we give to a webpage before it gives us data back\n",
    "#this is how we can tell the webpage what we want\n",
    "headers = {'User-Agent': useragent,\n",
    "           'From': 'ljn5yms@virginia.edu'}"
   ]
  },
  {
   "cell_type": "code",
   "execution_count": 11,
   "metadata": {},
   "outputs": [
    {
     "data": {
      "text/plain": [
       "{'User-Agent': 'python-requests/2.31.0', 'From': 'ljn5yms@virginia.edu'}"
      ]
     },
     "execution_count": 11,
     "metadata": {},
     "output_type": "execute_result"
    }
   ],
   "source": [
    "headers"
   ]
  },
  {
   "cell_type": "markdown",
   "metadata": {},
   "source": [
    "## CocktailDB"
   ]
  },
  {
   "cell_type": "code",
   "execution_count": 12,
   "metadata": {},
   "outputs": [
    {
     "data": {
      "text/plain": [
       "<Response [200]>"
      ]
     },
     "execution_count": 12,
     "metadata": {},
     "output_type": "execute_result"
    }
   ],
   "source": [
    "url = 'https://www.thecocktaildb.com/api/json/v1/1/filter.php?c=Cocktail'\n",
    "r = requests.get(url, headers=headers)\n",
    "r"
   ]
  },
  {
   "cell_type": "code",
   "execution_count": 15,
   "metadata": {},
   "outputs": [
    {
     "data": {
      "text/html": [
       "<div>\n",
       "<style scoped>\n",
       "    .dataframe tbody tr th:only-of-type {\n",
       "        vertical-align: middle;\n",
       "    }\n",
       "\n",
       "    .dataframe tbody tr th {\n",
       "        vertical-align: top;\n",
       "    }\n",
       "\n",
       "    .dataframe thead th {\n",
       "        text-align: right;\n",
       "    }\n",
       "</style>\n",
       "<table border=\"1\" class=\"dataframe\">\n",
       "  <thead>\n",
       "    <tr style=\"text-align: right;\">\n",
       "      <th></th>\n",
       "      <th>strDrink</th>\n",
       "      <th>strDrinkThumb</th>\n",
       "      <th>idDrink</th>\n",
       "    </tr>\n",
       "  </thead>\n",
       "  <tbody>\n",
       "    <tr>\n",
       "      <th>0</th>\n",
       "      <td>155 Belmont</td>\n",
       "      <td>https://www.thecocktaildb.com/images/media/dri...</td>\n",
       "      <td>15346</td>\n",
       "    </tr>\n",
       "    <tr>\n",
       "      <th>1</th>\n",
       "      <td>57 Chevy with a White License Plate</td>\n",
       "      <td>https://www.thecocktaildb.com/images/media/dri...</td>\n",
       "      <td>14029</td>\n",
       "    </tr>\n",
       "    <tr>\n",
       "      <th>2</th>\n",
       "      <td>747 Drink</td>\n",
       "      <td>https://www.thecocktaildb.com/images/media/dri...</td>\n",
       "      <td>178318</td>\n",
       "    </tr>\n",
       "    <tr>\n",
       "      <th>3</th>\n",
       "      <td>9 1/2 Weeks</td>\n",
       "      <td>https://www.thecocktaildb.com/images/media/dri...</td>\n",
       "      <td>16108</td>\n",
       "    </tr>\n",
       "    <tr>\n",
       "      <th>4</th>\n",
       "      <td>A Gilligan's Island</td>\n",
       "      <td>https://www.thecocktaildb.com/images/media/dri...</td>\n",
       "      <td>16943</td>\n",
       "    </tr>\n",
       "    <tr>\n",
       "      <th>...</th>\n",
       "      <td>...</td>\n",
       "      <td>...</td>\n",
       "      <td>...</td>\n",
       "    </tr>\n",
       "    <tr>\n",
       "      <th>95</th>\n",
       "      <td>Miami Vice</td>\n",
       "      <td>https://www.thecocktaildb.com/images/media/dri...</td>\n",
       "      <td>13936</td>\n",
       "    </tr>\n",
       "    <tr>\n",
       "      <th>96</th>\n",
       "      <td>Michelada</td>\n",
       "      <td>https://www.thecocktaildb.com/images/media/dri...</td>\n",
       "      <td>178343</td>\n",
       "    </tr>\n",
       "    <tr>\n",
       "      <th>97</th>\n",
       "      <td>Midnight Mint</td>\n",
       "      <td>https://www.thecocktaildb.com/images/media/dri...</td>\n",
       "      <td>14842</td>\n",
       "    </tr>\n",
       "    <tr>\n",
       "      <th>98</th>\n",
       "      <td>Mojito</td>\n",
       "      <td>https://www.thecocktaildb.com/images/media/dri...</td>\n",
       "      <td>11000</td>\n",
       "    </tr>\n",
       "    <tr>\n",
       "      <th>99</th>\n",
       "      <td>Mojito Extra</td>\n",
       "      <td>https://www.thecocktaildb.com/images/media/dri...</td>\n",
       "      <td>15841</td>\n",
       "    </tr>\n",
       "  </tbody>\n",
       "</table>\n",
       "<p>100 rows × 3 columns</p>\n",
       "</div>"
      ],
      "text/plain": [
       "                               strDrink  \\\n",
       "0                           155 Belmont   \n",
       "1   57 Chevy with a White License Plate   \n",
       "2                             747 Drink   \n",
       "3                           9 1/2 Weeks   \n",
       "4                   A Gilligan's Island   \n",
       "..                                  ...   \n",
       "95                           Miami Vice   \n",
       "96                            Michelada   \n",
       "97                        Midnight Mint   \n",
       "98                               Mojito   \n",
       "99                         Mojito Extra   \n",
       "\n",
       "                                        strDrinkThumb idDrink  \n",
       "0   https://www.thecocktaildb.com/images/media/dri...   15346  \n",
       "1   https://www.thecocktaildb.com/images/media/dri...   14029  \n",
       "2   https://www.thecocktaildb.com/images/media/dri...  178318  \n",
       "3   https://www.thecocktaildb.com/images/media/dri...   16108  \n",
       "4   https://www.thecocktaildb.com/images/media/dri...   16943  \n",
       "..                                                ...     ...  \n",
       "95  https://www.thecocktaildb.com/images/media/dri...   13936  \n",
       "96  https://www.thecocktaildb.com/images/media/dri...  178343  \n",
       "97  https://www.thecocktaildb.com/images/media/dri...   14842  \n",
       "98  https://www.thecocktaildb.com/images/media/dri...   11000  \n",
       "99  https://www.thecocktaildb.com/images/media/dri...   15841  \n",
       "\n",
       "[100 rows x 3 columns]"
      ]
     },
     "execution_count": 15,
     "metadata": {},
     "output_type": "execute_result"
    }
   ],
   "source": [
    "myjson = json.loads(r.text)\n",
    "pd.json_normalize(myjson, record_path = ['drinks'])"
   ]
  },
  {
   "cell_type": "markdown",
   "metadata": {},
   "source": [
    "## Wikipedia"
   ]
  },
  {
   "cell_type": "code",
   "execution_count": 18,
   "metadata": {},
   "outputs": [],
   "source": [
    "url = 'https://en.wikipedia.org/w/api.php?action=query&list=search&srsearch=Virginia&format=json&srlimit=500'\n",
    "# after the question mark is the parameters we are passing to the webpage, before is the webpage we are querying\n",
    "r = requests.get(url, headers=headers)\n",
    "myjson = json.loads(r.text)\n",
    "virginia_wiki_df = pd.json_normalize(myjson, record_path = ['query', 'search'])"
   ]
  },
  {
   "cell_type": "markdown",
   "metadata": {},
   "source": [
    "## News API"
   ]
  },
  {
   "cell_type": "code",
   "execution_count": 30,
   "metadata": {},
   "outputs": [
    {
     "data": {
      "text/plain": [
       "0     Florida Man Thinks He’s Smarter Than Highway P...\n",
       "1     Florida Man Builds 10-Foot-Wide Tiny Home To S...\n",
       "2     Florida man pleads not guilty to kidnapping hi...\n",
       "3     The Florida deputy who shot U.S. airman Roger ...\n",
       "4     Man who fled California due to the ‘cost of li...\n",
       "                            ...                        \n",
       "95    FLORIDA, MAN: Florida ranked top of list for s...\n",
       "96    College Baseball Super Regionals 2024: Results...\n",
       "97    Honor Thy Father: The Saga Of A Drug Smuggler’...\n",
       "98    Nation Gripped by Mystery of Missing Florida W...\n",
       "99    Wie dieser Satellit die Wettervorhersagen deut...\n",
       "Name: title, Length: 100, dtype: object"
      ]
     },
     "execution_count": 30,
     "metadata": {},
     "output_type": "execute_result"
    }
   ],
   "source": [
    "#DONOTSHARE instead use .env file to store API and bring into Python without display -> see module 4\n",
    "apikey = '0324c00934da4cfc9a851d49851d0840'\n",
    "params = {'q': 'florida man','apiKey': apikey}\n",
    "\n",
    "# or\n",
    "\n",
    "#headers = {'User-Agent': useragent,\n",
    "#           'From': 'ljn5yms@virginia.edu',\n",
    "#           'X-Api-Key': apikey}\n",
    "\n",
    "url = 'https://newsapi.org/v2/everything'\n",
    "r = requests.get(url, headers=headers, params=params)\n",
    "myjson = json.loads(r.text)\n",
    "myjson\n",
    "florida_man_df = pd.json_normalize(myjson, record_path = ['articles'])\n",
    "florida_man_df['title', ]\n"
   ]
  },
  {
   "cell_type": "code",
   "execution_count": null,
   "metadata": {},
   "outputs": [],
   "source": []
  },
  {
   "cell_type": "code",
   "execution_count": null,
   "metadata": {},
   "outputs": [],
   "source": []
  }
 ],
 "metadata": {
  "kernelspec": {
   "display_name": "Python 3",
   "language": "python",
   "name": "python3"
  },
  "language_info": {
   "codemirror_mode": {
    "name": "ipython",
    "version": 3
   },
   "file_extension": ".py",
   "mimetype": "text/x-python",
   "name": "python",
   "nbconvert_exporter": "python",
   "pygments_lexer": "ipython3",
   "version": "3.9.6"
  }
 },
 "nbformat": 4,
 "nbformat_minor": 2
}
